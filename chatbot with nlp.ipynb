{
 "cells": [
  {
   "cell_type": "code",
   "execution_count": 3,
   "id": "0690db28-4bed-485b-934c-1eb48c9beafc",
   "metadata": {},
   "outputs": [
    {
     "name": "stdout",
     "output_type": "stream",
     "text": [
      "Requirement already satisfied: nltk in c:\\users\\harshini koppuravuri\\appdata\\local\\programs\\python\\python313\\lib\\site-packages (3.9.1)\n",
      "Requirement already satisfied: click in c:\\users\\harshini koppuravuri\\appdata\\local\\programs\\python\\python313\\lib\\site-packages (from nltk) (8.2.1)\n",
      "Requirement already satisfied: joblib in c:\\users\\harshini koppuravuri\\appdata\\local\\programs\\python\\python313\\lib\\site-packages (from nltk) (1.5.1)\n",
      "Requirement already satisfied: regex>=2021.8.3 in c:\\users\\harshini koppuravuri\\appdata\\local\\programs\\python\\python313\\lib\\site-packages (from nltk) (2024.11.6)\n",
      "Requirement already satisfied: tqdm in c:\\users\\harshini koppuravuri\\appdata\\local\\programs\\python\\python313\\lib\\site-packages (from nltk) (4.67.1)\n",
      "Requirement already satisfied: colorama in c:\\users\\harshini koppuravuri\\appdata\\local\\programs\\python\\python313\\lib\\site-packages (from click->nltk) (0.4.6)\n"
     ]
    }
   ],
   "source": [
    "!pip install nltk"
   ]
  },
  {
   "cell_type": "code",
   "execution_count": 4,
   "id": "9992b30d-f1d6-47be-89a6-dde063380627",
   "metadata": {},
   "outputs": [],
   "source": [
    "import nltk\n",
    "import numpy as np\n",
    "import random\n",
    "import string\n",
    "from sklearn.feature_extraction.text import TfidfVectorizer\n",
    "from sklearn.metrics.pairwise import cosine_similarity"
   ]
  },
  {
   "cell_type": "code",
   "execution_count": 5,
   "id": "a317219d-b6d1-4f77-a1c7-c8e99e47dc24",
   "metadata": {},
   "outputs": [
    {
     "name": "stderr",
     "output_type": "stream",
     "text": [
      "[nltk_data] Downloading package punkt to C:\\Users\\Harshini\n",
      "[nltk_data]     Koppuravuri\\AppData\\Roaming\\nltk_data...\n",
      "[nltk_data]   Unzipping tokenizers\\punkt.zip.\n",
      "[nltk_data] Downloading package wordnet to C:\\Users\\Harshini\n",
      "[nltk_data]     Koppuravuri\\AppData\\Roaming\\nltk_data...\n"
     ]
    },
    {
     "data": {
      "text/plain": [
       "True"
      ]
     },
     "execution_count": 5,
     "metadata": {},
     "output_type": "execute_result"
    }
   ],
   "source": [
    "# Download NLTK data\n",
    "nltk.download('punkt')\n",
    "nltk.download('wordnet')"
   ]
  },
  {
   "cell_type": "code",
   "execution_count": 6,
   "id": "df8ec7a6-875c-4314-a3a4-82a6d33f7cee",
   "metadata": {},
   "outputs": [],
   "source": [
    "# Sample data (can be replaced with more Q&A pairs or a file)\n",
    "corpus = [\n",
    "    \"Hello! How can I help you?\",\n",
    "    \"What is your name?\",\n",
    "    \"I am a chatbot created using NLTK.\",\n",
    "    \"How does natural language processing work?\",\n",
    "    \"NLP helps machines understand and respond to human language.\",\n",
    "    \"What is Python?\",\n",
    "    \"Python is a popular programming language.\",\n",
    "    \"Goodbye!\",\n",
    "]\n"
   ]
  },
  {
   "cell_type": "code",
   "execution_count": 7,
   "id": "1bc4ea2a-830a-493c-8db1-a17ebfd9e53d",
   "metadata": {},
   "outputs": [],
   "source": [
    "# Preprocessing\n",
    "lemmer = nltk.stem.WordNetLemmatizer()\n",
    "\n",
    "def LemTokens(tokens):\n",
    "    return [lemmer.lemmatize(token.lower()) for token in tokens if token not in string.punctuation]\n",
    "\n",
    "remove_punct_dict = dict((ord(punct), None) for punct in string.punctuation)\n",
    "\n",
    "def LemNormalize(text):\n",
    "    return LemTokens(nltk.word_tokenize(text.lower().translate(remove_punct_dict)))\n"
   ]
  },
  {
   "cell_type": "code",
   "execution_count": 8,
   "id": "5ce0a804-0ae4-4321-8246-b74837a14284",
   "metadata": {},
   "outputs": [],
   "source": [
    "# Greeting\n",
    "GREETING_INPUTS = (\"hello\", \"hi\", \"hey\", \"greetings\")\n",
    "GREETING_RESPONSES = [\"Hi there!\", \"Hello!\", \"Hey!\", \"Hi, how can I assist you?\"]\n",
    "\n",
    "def greeting(sentence):\n",
    "    for word in sentence.split():\n",
    "        if word.lower() in GREETING_INPUTS:\n",
    "            return random.choice(GREETING_RESPONSES)\n"
   ]
  },
  {
   "cell_type": "code",
   "execution_count": 9,
   "id": "f028af3d-50df-4536-816a-9df0671f9d7e",
   "metadata": {},
   "outputs": [],
   "source": [
    "# Response generator\n",
    "def generate_response(user_input):\n",
    "    corpus.append(user_input)\n",
    "    TfidfVec = TfidfVectorizer(tokenizer=LemNormalize, stop_words='english')\n",
    "    tfidf = TfidfVec.fit_transform(corpus)\n",
    "    vals = cosine_similarity(tfidf[-1], tfidf)\n",
    "    idx = vals.argsort()[0][-2]\n",
    "    flat = vals.flatten()\n",
    "    flat.sort()\n",
    "    score = flat[-2]\n",
    "\n",
    "    corpus.pop()  # Remove user input from corpus\n",
    "\n",
    "    if score == 0:\n",
    "        return \"I'm sorry, I didn't understand that. Can you rephrase?\"\n",
    "    else:\n",
    "        return corpus[idx]"
   ]
  },
  {
   "cell_type": "code",
   "execution_count": 10,
   "id": "5aa5bacd-e5b6-4f99-b654-fb5ed7d9af96",
   "metadata": {},
   "outputs": [],
   "source": [
    "# Main chatbot loop\n",
    "def chatbot():\n",
    "    print(\"NLP Chatbot: Type 'bye' to exit\")\n",
    "    while True:\n",
    "        user_input = input(\"You: \")\n",
    "        user_input = user_input.lower()\n",
    "\n",
    "        if user_input == 'bye':\n",
    "            print(\"Chatbot: Goodbye! Have a nice day.\")\n",
    "            break\n",
    "        elif greeting(user_input):\n",
    "            print(\"Chatbot:\", greeting(user_input))\n",
    "        else:\n",
    "            print(\"Chatbot:\", generate_response(user_input))\n"
   ]
  },
  {
   "cell_type": "code",
   "execution_count": null,
   "id": "8a69862d-2999-415b-842b-122db319f79d",
   "metadata": {},
   "outputs": [
    {
     "name": "stdout",
     "output_type": "stream",
     "text": [
      "NLP Chatbot: Type 'bye' to exit\n"
     ]
    },
    {
     "name": "stdin",
     "output_type": "stream",
     "text": [
      "You:  hello\n"
     ]
    },
    {
     "name": "stdout",
     "output_type": "stream",
     "text": [
      "Chatbot: Hi, how can I assist you?\n"
     ]
    }
   ],
   "source": [
    "# Run the chatbot\n",
    "chatbot()"
   ]
  },
  {
   "cell_type": "code",
   "execution_count": null,
   "id": "407ebcbf-6b9d-4c6f-9965-548eaf241a6f",
   "metadata": {},
   "outputs": [],
   "source": []
  }
 ],
 "metadata": {
  "kernelspec": {
   "display_name": "Python 3 (ipykernel)",
   "language": "python",
   "name": "python3"
  },
  "language_info": {
   "codemirror_mode": {
    "name": "ipython",
    "version": 3
   },
   "file_extension": ".py",
   "mimetype": "text/x-python",
   "name": "python",
   "nbconvert_exporter": "python",
   "pygments_lexer": "ipython3",
   "version": "3.13.5"
  }
 },
 "nbformat": 4,
 "nbformat_minor": 5
}
